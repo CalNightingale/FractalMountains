{
 "cells": [
  {
   "cell_type": "markdown",
   "metadata": {},
   "source": [
    "# Fractal Mountains"
   ]
  },
  {
   "cell_type": "markdown",
   "metadata": {},
   "source": [
    "## Install required packages"
   ]
  },
  {
   "cell_type": "code",
   "execution_count": 140,
   "metadata": {},
   "outputs": [
    {
     "name": "stdout",
     "output_type": "stream",
     "text": [
      "Requirement already satisfied: numpy in ./.venv/lib/python3.13/site-packages (2.2.5)\n",
      "Requirement already satisfied: moderngl in ./.venv/lib/python3.13/site-packages (5.12.0)\n",
      "Requirement already satisfied: pillow in ./.venv/lib/python3.13/site-packages (11.2.1)\n",
      "Requirement already satisfied: glcontext>=3.0.0 in ./.venv/lib/python3.13/site-packages (from moderngl) (3.0.0)\n"
     ]
    }
   ],
   "source": [
    "!pip install numpy moderngl pillow\n",
    "import numpy as np\n",
    "import moderngl\n",
    "import numpy as np\n",
    "from PIL import Image\n",
    "from IPython.display import Image as IPyImage\n",
    "import io"
   ]
  },
  {
   "cell_type": "code",
   "execution_count": 141,
   "metadata": {},
   "outputs": [
    {
     "data": {
      "text/plain": [
       "array([[-1., -1., -1., -1., -1.],\n",
       "       [-1., -1., -1., -1., -1.],\n",
       "       [-1., -1., -1., -1., -1.],\n",
       "       [-1., -1., -1., -1., -1.],\n",
       "       [-1., -1., -1., -1., -1.]])"
      ]
     },
     "execution_count": 141,
     "metadata": {},
     "output_type": "execute_result"
    }
   ],
   "source": [
    "\n",
    "n_iters = 2 # @param {type:\"slider\", min:0, max:5, step:1}\n",
    "points_per_axis = 2 ** n_iters + 1\n",
    "vertex_heights = np.full((points_per_axis, points_per_axis), -1, dtype=float)\n",
    "vertex_heights"
   ]
  },
  {
   "cell_type": "code",
   "execution_count": 142,
   "metadata": {},
   "outputs": [
    {
     "ename": "Exception",
     "evalue": "cannot choose pixel format",
     "output_type": "error",
     "traceback": [
      "\u001b[31m---------------------------------------------------------------------------\u001b[39m",
      "\u001b[31mException\u001b[39m                                 Traceback (most recent call last)",
      "\u001b[36mCell\u001b[39m\u001b[36m \u001b[39m\u001b[32mIn[142]\u001b[39m\u001b[32m, line 91\u001b[39m\n\u001b[32m     87\u001b[39m     img_byte_arr = img_byte_arr.getvalue()\n\u001b[32m     89\u001b[39m     \u001b[38;5;28;01mreturn\u001b[39;00m IPyImage(img_byte_arr)\n\u001b[32m---> \u001b[39m\u001b[32m91\u001b[39m \u001b[43mrender_grid\u001b[49m\u001b[43m(\u001b[49m\u001b[43mvertex_heights\u001b[49m\u001b[43m)\u001b[49m\n",
      "\u001b[36mCell\u001b[39m\u001b[36m \u001b[39m\u001b[32mIn[142]\u001b[39m\u001b[32m, line 13\u001b[39m, in \u001b[36mrender_grid\u001b[39m\u001b[34m(vertex_heights)\u001b[39m\n\u001b[32m      7\u001b[39m \u001b[38;5;250m\u001b[39m\u001b[33;03m\"\"\"\u001b[39;00m\n\u001b[32m      8\u001b[39m \u001b[33;03mRenders the height map from directly above using raw WebGL commands via ModernGL.\u001b[39;00m\n\u001b[32m      9\u001b[39m \u001b[33;03mGrid is adjusted to show equilateral triangles in a rhombic pattern.\u001b[39;00m\n\u001b[32m     10\u001b[39m \u001b[33;03m\"\"\"\u001b[39;00m\n\u001b[32m     12\u001b[39m width = \u001b[38;5;28mlen\u001b[39m(vertex_heights)\n\u001b[32m---> \u001b[39m\u001b[32m13\u001b[39m ctx = \u001b[43mmoderngl\u001b[49m\u001b[43m.\u001b[49m\u001b[43mcreate_standalone_context\u001b[49m\u001b[43m(\u001b[49m\u001b[43m)\u001b[49m\n\u001b[32m     15\u001b[39m \u001b[38;5;66;03m# Load shaders from files\u001b[39;00m\n\u001b[32m     16\u001b[39m vertex_shader = load_shader(\u001b[33m'\u001b[39m\u001b[33mvertex.glsl\u001b[39m\u001b[33m'\u001b[39m)\n",
      "\u001b[36mFile \u001b[39m\u001b[32m~/projects/FractalMountains/.venv/lib/python3.13/site-packages/moderngl/__init__.py:2304\u001b[39m, in \u001b[36mcreate_standalone_context\u001b[39m\u001b[34m(**kwargs)\u001b[39m\n\u001b[32m   2303\u001b[39m \u001b[38;5;28;01mdef\u001b[39;00m\u001b[38;5;250m \u001b[39m\u001b[34mcreate_standalone_context\u001b[39m(**kwargs):\n\u001b[32m-> \u001b[39m\u001b[32m2304\u001b[39m     \u001b[38;5;28;01mreturn\u001b[39;00m \u001b[43mcreate_context\u001b[49m\u001b[43m(\u001b[49m\u001b[43mstandalone\u001b[49m\u001b[43m=\u001b[49m\u001b[38;5;28;43;01mTrue\u001b[39;49;00m\u001b[43m,\u001b[49m\u001b[43m \u001b[49m\u001b[43m*\u001b[49m\u001b[43m*\u001b[49m\u001b[43mkwargs\u001b[49m\u001b[43m)\u001b[49m\n",
      "\u001b[36mFile \u001b[39m\u001b[32m~/projects/FractalMountains/.venv/lib/python3.13/site-packages/moderngl/__init__.py:2254\u001b[39m, in \u001b[36mcreate_context\u001b[39m\u001b[34m(require, standalone, share, **settings)\u001b[39m\n\u001b[32m   2251\u001b[39m     mode = \u001b[33m\"\u001b[39m\u001b[33mshare\u001b[39m\u001b[33m\"\u001b[39m\n\u001b[32m   2253\u001b[39m ctx = Context.\u001b[34m__new__\u001b[39m(Context)\n\u001b[32m-> \u001b[39m\u001b[32m2254\u001b[39m ctx.mglo, ctx.version_code = \u001b[43mmgl\u001b[49m\u001b[43m.\u001b[49m\u001b[43mcreate_context\u001b[49m\u001b[43m(\u001b[49m\u001b[43mglversion\u001b[49m\u001b[43m=\u001b[49m\u001b[43mrequire\u001b[49m\u001b[43m,\u001b[49m\u001b[43m \u001b[49m\u001b[43mmode\u001b[49m\u001b[43m=\u001b[49m\u001b[43mmode\u001b[49m\u001b[43m,\u001b[49m\u001b[43m \u001b[49m\u001b[43m*\u001b[49m\u001b[43m*\u001b[49m\u001b[43msettings\u001b[49m\u001b[43m)\u001b[49m\n\u001b[32m   2255\u001b[39m ctx._info = \u001b[38;5;28;01mNone\u001b[39;00m\n\u001b[32m   2256\u001b[39m ctx._extensions = \u001b[38;5;28;01mNone\u001b[39;00m\n",
      "\u001b[36mFile \u001b[39m\u001b[32m~/projects/FractalMountains/.venv/lib/python3.13/site-packages/glcontext/__init__.py:100\u001b[39m, in \u001b[36m_darwin.<locals>.create\u001b[39m\u001b[34m(*args, **kwargs)\u001b[39m\n\u001b[32m     99\u001b[39m \u001b[38;5;28;01mdef\u001b[39;00m\u001b[38;5;250m \u001b[39m\u001b[34mcreate\u001b[39m(*args, **kwargs):\n\u001b[32m--> \u001b[39m\u001b[32m100\u001b[39m     \u001b[38;5;28;01mreturn\u001b[39;00m \u001b[43mdarwin\u001b[49m\u001b[43m.\u001b[49m\u001b[43mcreate_context\u001b[49m\u001b[43m(\u001b[49m\u001b[43m*\u001b[49m\u001b[43m*\u001b[49m\u001b[43m_strip_kwargs\u001b[49m\u001b[43m(\u001b[49m\u001b[43mkwargs\u001b[49m\u001b[43m,\u001b[49m\u001b[43m \u001b[49m\u001b[43m[\u001b[49m\u001b[33;43m'\u001b[39;49m\u001b[33;43mmode\u001b[39;49m\u001b[33;43m'\u001b[39;49m\u001b[43m]\u001b[49m\u001b[43m)\u001b[49m\u001b[43m)\u001b[49m\n",
      "\u001b[31mException\u001b[39m: cannot choose pixel format"
     ]
    }
   ],
   "source": [
    "def load_shader(shader_path):\n",
    "    \"\"\"Load shader source from a file.\"\"\"\n",
    "    with open(shader_path, 'r') as f:\n",
    "        return f.read()\n",
    "\n",
    "def render_grid(vertex_heights: np.ndarray):\n",
    "    \"\"\"\n",
    "    Renders the height map from directly above using raw WebGL commands via ModernGL.\n",
    "    Grid is adjusted to show equilateral triangles in a rhombic pattern.\n",
    "    \"\"\"\n",
    "\n",
    "    width = len(vertex_heights)\n",
    "    ctx = moderngl.create_standalone_context()\n",
    "    \n",
    "    # Load shaders from files\n",
    "    vertex_shader = load_shader('vertex.glsl')\n",
    "    fragment_shader = load_shader('fragment.glsl')\n",
    "    wire_fragment_shader = load_shader('wire_fragment.glsl')\n",
    "    \n",
    "    program = ctx.program(\n",
    "        vertex_shader=vertex_shader,\n",
    "        fragment_shader=fragment_shader,\n",
    "    )\n",
    "\n",
    "    # Set the width uniform\n",
    "    program['width'] = width\n",
    "\n",
    "    wire_program = ctx.program(\n",
    "        vertex_shader=vertex_shader,\n",
    "        fragment_shader=wire_fragment_shader,\n",
    "    )\n",
    "\n",
    "    # Set the width uniform for wire program too\n",
    "    wire_program['width'] = width\n",
    "    \n",
    "    # Generate vertex data\n",
    "    vertices = []\n",
    "    indices = []\n",
    "    \n",
    "    # Create vertices - now just passing raw x_i, y_i, z values\n",
    "    for x_i in range(width):\n",
    "        for y_i in range(width):\n",
    "            z = vertex_heights[x_i][y_i]\n",
    "            vertices.extend([float(x_i), float(y_i), z])\n",
    "    \n",
    "    # Create triangles (unchanged)\n",
    "    for x_i in range(width - 1):\n",
    "        for y in range(width - 1):\n",
    "            i = x_i * width + y\n",
    "            indices.extend([i, i + width + 1, i + width])  # Bottom triangle\n",
    "            indices.extend([i, i + 1, i + width + 1])      # Top triangle\n",
    "    \n",
    "    vertices = np.array(vertices, dtype='f4')\n",
    "    indices = np.array(indices, dtype='i4')\n",
    "    \n",
    "    vbo = ctx.buffer(vertices.tobytes())\n",
    "    ibo = ctx.buffer(indices.tobytes())\n",
    "    \n",
    "    vao = ctx.vertex_array(\n",
    "        program,\n",
    "        [(vbo, '3f', 'raw_position')],\n",
    "        ibo\n",
    "    )\n",
    "    \n",
    "    size = 400\n",
    "    fbo = ctx.framebuffer(\n",
    "        color_attachments=[ctx.texture((size, size), 4)]\n",
    "    )\n",
    "    \n",
    "    fbo.use()\n",
    "    ctx.clear(1.0, 1.0, 1.0, 1.0)\n",
    "    \n",
    "    vao.render()\n",
    "    \n",
    "    wire_vao = ctx.vertex_array(\n",
    "        wire_program,\n",
    "        [(vbo, '3f', 'raw_position')],\n",
    "        ibo\n",
    "    )\n",
    "    \n",
    "    ctx.wireframe = True\n",
    "    wire_vao.render()\n",
    "    \n",
    "    image = Image.frombytes('RGBA', fbo.size, fbo.read(components=4))\n",
    "    img_byte_arr = io.BytesIO()\n",
    "    image.save(img_byte_arr, format='PNG')\n",
    "    img_byte_arr = img_byte_arr.getvalue()\n",
    "    \n",
    "    return IPyImage(img_byte_arr)\n",
    "\n",
    "render_grid(vertex_heights)"
   ]
  }
 ],
 "metadata": {
  "kernelspec": {
   "display_name": ".venv",
   "language": "python",
   "name": "python3"
  },
  "language_info": {
   "codemirror_mode": {
    "name": "ipython",
    "version": 3
   },
   "file_extension": ".py",
   "mimetype": "text/x-python",
   "name": "python",
   "nbconvert_exporter": "python",
   "pygments_lexer": "ipython3",
   "version": "3.13.2"
  }
 },
 "nbformat": 4,
 "nbformat_minor": 2
}
