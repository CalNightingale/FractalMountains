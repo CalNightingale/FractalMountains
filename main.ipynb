{
 "cells": [
  {
   "cell_type": "markdown",
   "metadata": {},
   "source": [
    "# Fractal Mountains"
   ]
  },
  {
   "cell_type": "markdown",
   "metadata": {},
   "source": [
    "## Install required packages"
   ]
  },
  {
   "cell_type": "code",
   "execution_count": 89,
   "metadata": {},
   "outputs": [
    {
     "name": "stdout",
     "output_type": "stream",
     "text": [
      "Requirement already satisfied: numpy in ./.venv/lib/python3.13/site-packages (2.2.5)\n",
      "Requirement already satisfied: moderngl in ./.venv/lib/python3.13/site-packages (5.12.0)\n",
      "Requirement already satisfied: pillow in ./.venv/lib/python3.13/site-packages (11.2.1)\n",
      "Requirement already satisfied: glcontext>=3.0.0 in ./.venv/lib/python3.13/site-packages (from moderngl) (3.0.0)\n"
     ]
    }
   ],
   "source": [
    "!pip install numpy moderngl pillow\n",
    "import numpy as np\n",
    "import moderngl\n",
    "import numpy as np\n",
    "from PIL import Image\n",
    "from IPython.display import Image as IPyImage\n",
    "import io"
   ]
  },
  {
   "cell_type": "code",
   "execution_count": 90,
   "metadata": {},
   "outputs": [
    {
     "data": {
      "text/plain": [
       "array([[-1., -1., -1.],\n",
       "       [-1., -1., -1.],\n",
       "       [-1., -1., -1.]])"
      ]
     },
     "execution_count": 90,
     "metadata": {},
     "output_type": "execute_result"
    }
   ],
   "source": [
    "\n",
    "n_iters = 1 # @param {type:\"slider\", min:0, max:5, step:1}\n",
    "points_per_axis = 2 ** n_iters + 1\n",
    "vertex_heights = np.full((points_per_axis, points_per_axis), -1, dtype=float)\n",
    "vertex_heights"
   ]
  },
  {
   "cell_type": "code",
   "execution_count": 94,
   "metadata": {},
   "outputs": [
    {
     "data": {
      "image/png": "[encoded data removed]",
      "text/plain": [
       "<IPython.core.display.Image object>"
      ]
     },
     "execution_count": 94,
     "metadata": {},
     "output_type": "execute_result"
    }
   ],
   "source": [
    "def load_shader(shader_path):\n",
    "    \"\"\"Load shader source from a file.\"\"\"\n",
    "    with open(shader_path, 'r') as f:\n",
    "        return f.read()\n",
    "\n",
    "def render_grid(vertex_heights: np.ndarray):\n",
    "    \"\"\"\n",
    "    Renders the height map from directly above using raw WebGL commands via ModernGL.\n",
    "    Grid is adjusted to show equilateral triangles in a rhombic pattern.\n",
    "    \"\"\"\n",
    "\n",
    "    width = len(vertex_heights)\n",
    "    ctx = moderngl.create_standalone_context()\n",
    "    \n",
    "    # Load shaders from files\n",
    "    vertex_shader = load_shader('vertex.glsl')\n",
    "    fragment_shader = load_shader('fragment.glsl')\n",
    "    wire_fragment_shader = load_shader('wire_fragment.glsl')\n",
    "    \n",
    "    program = ctx.program(\n",
    "        vertex_shader=vertex_shader,\n",
    "        fragment_shader=fragment_shader,\n",
    "    )\n",
    "\n",
    "    # Set the width uniform\n",
    "    program['width'] = width\n",
    "\n",
    "    wire_program = ctx.program(\n",
    "        vertex_shader=vertex_shader,\n",
    "        fragment_shader=wire_fragment_shader,\n",
    "    )\n",
    "\n",
    "    # Set the width uniform for wire program too\n",
    "    wire_program['width'] = width\n",
    "    \n",
    "    # Generate vertex data\n",
    "    vertices = []\n",
    "    indices = []\n",
    "    \n",
    "    # Create vertices - now just passing raw x_i, y_i, z values\n",
    "    for x_i in range(width):\n",
    "        for y_i in range(width):\n",
    "            z = vertex_heights[x_i][y_i]\n",
    "            vertices.extend([float(x_i), float(y_i), z])\n",
    "    \n",
    "    # Create triangles (unchanged)\n",
    "    for x_i in range(width - 1):\n",
    "        for y in range(width - 1):\n",
    "            i = x_i * width + y\n",
    "            indices.extend([i, i + width + 1, i + width])  # Bottom triangle\n",
    "            indices.extend([i, i + 1, i + width + 1])      # Top triangle\n",
    "    \n",
    "    vertices = np.array(vertices, dtype='f4')\n",
    "    indices = np.array(indices, dtype='i4')\n",
    "    \n",
    "    vbo = ctx.buffer(vertices.tobytes())\n",
    "    ibo = ctx.buffer(indices.tobytes())\n",
    "    \n",
    "    vao = ctx.vertex_array(\n",
    "        program,\n",
    "        [(vbo, '3f', 'raw_position')],\n",
    "        ibo\n",
    "    )\n",
    "    \n",
    "    size = 400\n",
    "    fbo = ctx.framebuffer(\n",
    "        color_attachments=[ctx.texture((size, size), 4)]\n",
    "    )\n",
    "    \n",
    "    fbo.use()\n",
    "    ctx.clear(1.0, 1.0, 1.0, 1.0)\n",
    "    \n",
    "    vao.render()\n",
    "    \n",
    "    wire_vao = ctx.vertex_array(\n",
    "        wire_program,\n",
    "        [(vbo, '3f', 'raw_position')],\n",
    "        ibo\n",
    "    )\n",
    "    \n",
    "    ctx.wireframe = True\n",
    "    wire_vao.render()\n",
    "    \n",
    "    image = Image.frombytes('RGBA', fbo.size, fbo.read(components=4))\n",
    "    img_byte_arr = io.BytesIO()\n",
    "    image.save(img_byte_arr, format='PNG')\n",
    "    img_byte_arr = img_byte_arr.getvalue()\n",
    "    \n",
    "    return IPyImage(img_byte_arr)\n",
    "\n",
    "render_grid(vertex_heights)"
   ]
  }
 ],
 "metadata": {
  "kernelspec": {
   "display_name": ".venv",
   "language": "python",
   "name": "python3"
  },
  "language_info": {
   "codemirror_mode": {
    "name": "ipython",
    "version": 3
   },
   "file_extension": ".py",
   "mimetype": "text/x-python",
   "name": "python",
   "nbconvert_exporter": "python",
   "pygments_lexer": "ipython3",
   "version": "3.13.2"
  }
 },
 "nbformat": 4,
 "nbformat_minor": 2
}
